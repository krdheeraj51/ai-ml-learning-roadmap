{
 "cells": [
  {
   "cell_type": "markdown",
   "id": "bbfe6c02",
   "metadata": {},
   "source": [
    "### Example 4 : Conditional Edges"
   ]
  },
  {
   "cell_type": "code",
   "execution_count": 17,
   "id": "cf70cd57",
   "metadata": {},
   "outputs": [],
   "source": [
    "from typing import TypedDict\n",
    "from langgraph.graph import StateGraph,START,END\n"
   ]
  },
  {
   "cell_type": "code",
   "execution_count": 18,
   "id": "c16d3128",
   "metadata": {},
   "outputs": [],
   "source": [
    "# Define State here \n",
    "class AgentState(TypedDict):\n",
    "    numbeer1: int \n",
    "    operation: str\n",
    "    number2: int\n",
    "    finalNumber: int"
   ]
  },
  {
   "cell_type": "code",
   "execution_count": 19,
   "id": "4684df6f",
   "metadata": {},
   "outputs": [],
   "source": [
    "# create node fuunction for defining actions\n",
    "def addor(state:AgentState)->AgentState:\n",
    "    \"\"\" add two numbers \"\"\"\n",
    "    state['finalNumber'] = state['numbeer1'] + state['number2']\n",
    "    return state\n",
    "\n",
    "def subtractor(state:AgentState)->AgentState:\n",
    "    \"\"\" subtract two numbers \"\"\"\n",
    "    state['finalNumber'] = state['numbeer1'] - state['number2']\n",
    "    return state\n",
    "\n",
    "#conditional function to check operation\n",
    "def checkoperation(state:AgentState)->AgentState:\n",
    "    \"\"\" check operation \"\"\"\n",
    "    if state['operation'] == '+':\n",
    "        return \"addition_operation\"\n",
    "    elif state['operation'] == '-':\n",
    "        return \"subtraction_operation\""
   ]
  },
  {
   "cell_type": "code",
   "execution_count": null,
   "id": "4f796923",
   "metadata": {},
   "outputs": [
    {
     "data": {
      "text/plain": [
       "<langgraph.graph.state.StateGraph at 0x2dbc9d63b90>"
      ]
     },
     "execution_count": 20,
     "metadata": {},
     "output_type": "execute_result"
    }
   ],
   "source": [
    "graph = StateGraph(AgentState)\n",
    "# add nodes to graph\n",
    "graph.add_node(\"add_node\", addor)\n",
    "graph.add_node(\"subtract_node\", subtractor)\n",
    "graph.add_node(\"router\", lambda state: state) # pass trough node\n",
    "\n",
    "\n"
   ]
  },
  {
   "cell_type": "code",
   "execution_count": null,
   "id": "d6e7011a",
   "metadata": {},
   "outputs": [
    {
     "data": {
      "image/png": "[encoded data removed]",
      "text/plain": [
       "<langgraph.graph.state.CompiledStateGraph object at 0x000002DBC9D2FAD0>"
      ]
     },
     "execution_count": 21,
     "metadata": {},
     "output_type": "execute_result"
    }
   ],
   "source": [
    "# create edges \n",
    "graph.add_edge(START,\"router\")\n",
    "graph.add_conditional_edges(\"router\",checkoperation,{\n",
    "    \"addition_operation\":\"add_node\",\n",
    "    \"subtraction_operation\":\"subtract_node\"\n",
    "})\n",
    "\n",
    "graph.add_edge(\"add_node\",END)\n",
    "graph.add_edge(\"subtract_node\",END)\n",
    "# compile graph\n",
    "graph.compile()\n"
   ]
  }
 ],
 "metadata": {
  "kernelspec": {
   "display_name": "Python 3",
   "language": "python",
   "name": "python3"
  },
  "language_info": {
   "codemirror_mode": {
    "name": "ipython",
    "version": 3
   },
   "file_extension": ".py",
   "mimetype": "text/x-python",
   "name": "python",
   "nbconvert_exporter": "python",
   "pygments_lexer": "ipython3",
   "version": "3.11.9"
  }
 },
 "nbformat": 4,
 "nbformat_minor": 5
}
