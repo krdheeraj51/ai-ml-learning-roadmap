{
 "cells": [
  {
   "cell_type": "markdown",
   "id": "06d714fb",
   "metadata": {},
   "source": [
    "### Example 1 Hello world"
   ]
  },
  {
   "cell_type": "code",
   "execution_count": 6,
   "id": "6bdab224",
   "metadata": {},
   "outputs": [],
   "source": [
    "from typing import Dict,TypedDict\n",
    "from langgraph.graph import StateGraph\n"
   ]
  },
  {
   "cell_type": "code",
   "execution_count": 7,
   "id": "7efbc005",
   "metadata": {},
   "outputs": [],
   "source": [
    "#Define the state structure\n",
    "class AgentState(TypedDict):\n",
    "    message: str"
   ]
  },
  {
   "cell_type": "code",
   "execution_count": 8,
   "id": "3df60a83",
   "metadata": {},
   "outputs": [],
   "source": [
    "#Define the node\n",
    "def node_function(state: AgentState) -> AgentState:\n",
    "    state['message'] += \" World\"\n",
    "    return state\n"
   ]
  },
  {
   "cell_type": "code",
   "execution_count": 11,
   "id": "52c73a25",
   "metadata": {},
   "outputs": [
    {
     "data": {
      "text/plain": [
       "<langgraph.graph.state.StateGraph at 0x2077f280410>"
      ]
     },
     "execution_count": 11,
     "metadata": {},
     "output_type": "execute_result"
    }
   ],
   "source": [
    "# create here graph and add nodes \n",
    "graph = StateGraph(AgentState)\n",
    "graph.add_node(\"greet_node\", node_function)\n"
   ]
  },
  {
   "cell_type": "code",
   "execution_count": 12,
   "id": "bfc0d187",
   "metadata": {},
   "outputs": [
    {
     "data": {
      "image/png": "[encoded data removed]",
      "text/plain": [
       "<langgraph.graph.state.CompiledStateGraph object at 0x000002077F8C78D0>"
      ]
     },
     "execution_count": 12,
     "metadata": {},
     "output_type": "execute_result"
    }
   ],
   "source": [
    "graph.set_entry_point(\"greet_node\")\n",
    "graph.set_finish_point(\"greet_node\")\n",
    "\n",
    "graph.compile()\n"
   ]
  }
 ],
 "metadata": {
  "kernelspec": {
   "display_name": "Python 3",
   "language": "python",
   "name": "python3"
  },
  "language_info": {
   "codemirror_mode": {
    "name": "ipython",
    "version": 3
   },
   "file_extension": ".py",
   "mimetype": "text/x-python",
   "name": "python",
   "nbconvert_exporter": "python",
   "pygments_lexer": "ipython3",
   "version": "3.11.9"
  }
 },
 "nbformat": 4,
 "nbformat_minor": 5
}
