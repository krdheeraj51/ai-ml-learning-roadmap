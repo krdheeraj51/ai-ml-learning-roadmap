{
 "cells": [
  {
   "cell_type": "code",
   "execution_count": null,
   "id": "1269a6cc",
   "metadata": {},
   "outputs": [],
   "source": [
    "### Example 2 Taking multiple inputs and processing them"
   ]
  },
  {
   "cell_type": "code",
   "execution_count": 1,
   "id": "cf26d38e",
   "metadata": {},
   "outputs": [],
   "source": [
    "from typing import List,TypedDict\n",
    "from langgraph.graph import StateGraph"
   ]
  },
  {
   "cell_type": "code",
   "execution_count": 2,
   "id": "92bb8942",
   "metadata": {},
   "outputs": [],
   "source": [
    "class MultiipleInputsAgent(TypedDict):\n",
    "    values: List[int]\n",
    "    name: str\n",
    "    result: str\n"
   ]
  },
  {
   "cell_type": "code",
   "execution_count": 6,
   "id": "e079d9a4",
   "metadata": {},
   "outputs": [],
   "source": [
    "# create node function \n",
    "def multi_input_agent(state:MultiipleInputsAgent) -> MultiipleInputsAgent:\n",
    "    sum_values = sum(state['values'])\n",
    "    state['result'] = f\"The sum of values for {state['name']} is {sum_values}\"\n",
    "    return state\n",
    "\n"
   ]
  },
  {
   "cell_type": "code",
   "execution_count": 9,
   "id": "3b823334",
   "metadata": {},
   "outputs": [
    {
     "data": {
      "text/plain": [
       "<langgraph.graph.state.StateGraph at 0x22ec9f8c410>"
      ]
     },
     "execution_count": 9,
     "metadata": {},
     "output_type": "execute_result"
    }
   ],
   "source": [
    "graph = StateGraph(MultiipleInputsAgent)\n",
    "# it require two things name and action\n",
    "graph.add_node(\"process\", multi_input_agent)"
   ]
  },
  {
   "cell_type": "code",
   "execution_count": 11,
   "id": "079b8893",
   "metadata": {},
   "outputs": [
    {
     "name": "stderr",
     "output_type": "stream",
     "text": [
      "Adding an edge to a graph that has already been compiled. This will not be reflected in the compiled graph.\n",
      "Adding an edge to a graph that has already been compiled. This will not be reflected in the compiled graph.\n"
     ]
    }
   ],
   "source": [
    "graph.set_entry_point(\"process\")\n",
    "graph.set_finish_point(\"process\")\n",
    "\n",
    "app=graph.compile()\n"
   ]
  },
  {
   "cell_type": "code",
   "execution_count": 12,
   "id": "d7a6fcc3",
   "metadata": {},
   "outputs": [],
   "source": [
    "answer = app.invoke({\"values\": [1, 2, 3, 4, 5], \"name\": \"TestUser\"})"
   ]
  },
  {
   "cell_type": "code",
   "execution_count": 13,
   "id": "58a0988a",
   "metadata": {},
   "outputs": [
    {
     "name": "stdout",
     "output_type": "stream",
     "text": [
      "{'values': [1, 2, 3, 4, 5], 'name': 'TestUser', 'result': 'The sum of values for TestUser is 15'}\n"
     ]
    }
   ],
   "source": [
    "print(answer)"
   ]
  }
 ],
 "metadata": {
  "kernelspec": {
   "display_name": "Python 3",
   "language": "python",
   "name": "python3"
  },
  "language_info": {
   "codemirror_mode": {
    "name": "ipython",
    "version": 3
   },
   "file_extension": ".py",
   "mimetype": "text/x-python",
   "name": "python",
   "nbconvert_exporter": "python",
   "pygments_lexer": "ipython3",
   "version": "3.11.9"
  }
 },
 "nbformat": 4,
 "nbformat_minor": 5
}
